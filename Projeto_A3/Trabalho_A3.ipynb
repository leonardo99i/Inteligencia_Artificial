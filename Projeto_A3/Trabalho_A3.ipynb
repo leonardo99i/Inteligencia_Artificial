{
  "cells": [
    {
      "cell_type": "code",
      "execution_count": 4,
      "metadata": {
        "id": "tZE5auu2pKUZ"
      },
      "outputs": [],
      "source": [
        "import datetime\n",
        "import matplotlib.pyplot as plt\n",
        "import pandas as pd"
      ]
    },
    {
      "cell_type": "code",
      "execution_count": 5,
      "metadata": {
        "id": "ERUM2_IjoIoE"
      },
      "outputs": [
        {
          "data": {
            "text/html": [
              "<div>\n",
              "<style scoped>\n",
              "    .dataframe tbody tr th:only-of-type {\n",
              "        vertical-align: middle;\n",
              "    }\n",
              "\n",
              "    .dataframe tbody tr th {\n",
              "        vertical-align: top;\n",
              "    }\n",
              "\n",
              "    .dataframe thead th {\n",
              "        text-align: right;\n",
              "    }\n",
              "</style>\n",
              "<table border=\"1\" class=\"dataframe\">\n",
              "  <thead>\n",
              "    <tr style=\"text-align: right;\">\n",
              "      <th></th>\n",
              "      <th>Date</th>\n",
              "      <th>Open</th>\n",
              "      <th>High</th>\n",
              "      <th>Low</th>\n",
              "      <th>Close</th>\n",
              "      <th>Adj Close</th>\n",
              "      <th>Volume</th>\n",
              "    </tr>\n",
              "  </thead>\n",
              "  <tbody>\n",
              "    <tr>\n",
              "      <th>0</th>\n",
              "      <td>Sep 01, 2022</td>\n",
              "      <td>3,936.73</td>\n",
              "      <td>4,119.28</td>\n",
              "      <td>3,610.40</td>\n",
              "      <td>3,640.47</td>\n",
              "      <td>3,640.47</td>\n",
              "      <td>88,667,050,000</td>\n",
              "    </tr>\n",
              "    <tr>\n",
              "      <th>1</th>\n",
              "      <td>Aug 01, 2022</td>\n",
              "      <td>4,112.38</td>\n",
              "      <td>4,325.28</td>\n",
              "      <td>3,954.53</td>\n",
              "      <td>3,955.00</td>\n",
              "      <td>3,955.00</td>\n",
              "      <td>78,088,520,000</td>\n",
              "    </tr>\n",
              "    <tr>\n",
              "      <th>2</th>\n",
              "      <td>Jul 01, 2022</td>\n",
              "      <td>3,781.00</td>\n",
              "      <td>4,140.15</td>\n",
              "      <td>3,721.56</td>\n",
              "      <td>4,130.29</td>\n",
              "      <td>4,130.29</td>\n",
              "      <td>68,021,140,000</td>\n",
              "    </tr>\n",
              "    <tr>\n",
              "      <th>3</th>\n",
              "      <td>Jun 01, 2022</td>\n",
              "      <td>4,149.78</td>\n",
              "      <td>4,177.51</td>\n",
              "      <td>3,636.87</td>\n",
              "      <td>3,785.38</td>\n",
              "      <td>3,785.38</td>\n",
              "      <td>86,799,060,000</td>\n",
              "    </tr>\n",
              "    <tr>\n",
              "      <th>4</th>\n",
              "      <td>May 01, 2022</td>\n",
              "      <td>4,130.61</td>\n",
              "      <td>4,307.66</td>\n",
              "      <td>3,810.32</td>\n",
              "      <td>4,132.15</td>\n",
              "      <td>4,132.15</td>\n",
              "      <td>89,128,130,000</td>\n",
              "    </tr>\n",
              "    <tr>\n",
              "      <th>...</th>\n",
              "      <td>...</td>\n",
              "      <td>...</td>\n",
              "      <td>...</td>\n",
              "      <td>...</td>\n",
              "      <td>...</td>\n",
              "      <td>...</td>\n",
              "      <td>...</td>\n",
              "    </tr>\n",
              "    <tr>\n",
              "      <th>448</th>\n",
              "      <td>May 01, 1985</td>\n",
              "      <td>179.83</td>\n",
              "      <td>189.98</td>\n",
              "      <td>178.35</td>\n",
              "      <td>189.55</td>\n",
              "      <td>189.55</td>\n",
              "      <td>2,350,340,000</td>\n",
              "    </tr>\n",
              "    <tr>\n",
              "      <th>449</th>\n",
              "      <td>Apr 01, 1985</td>\n",
              "      <td>180.66</td>\n",
              "      <td>183.61</td>\n",
              "      <td>177.86</td>\n",
              "      <td>179.83</td>\n",
              "      <td>179.83</td>\n",
              "      <td>1,981,880,000</td>\n",
              "    </tr>\n",
              "    <tr>\n",
              "      <th>450</th>\n",
              "      <td>Mar 01, 1985</td>\n",
              "      <td>181.18</td>\n",
              "      <td>183.89</td>\n",
              "      <td>176.53</td>\n",
              "      <td>180.66</td>\n",
              "      <td>180.66</td>\n",
              "      <td>2,153,090,000</td>\n",
              "    </tr>\n",
              "    <tr>\n",
              "      <th>451</th>\n",
              "      <td>Feb 01, 1985</td>\n",
              "      <td>179.63</td>\n",
              "      <td>183.95</td>\n",
              "      <td>177.75</td>\n",
              "      <td>181.18</td>\n",
              "      <td>181.18</td>\n",
              "      <td>2,194,620,000</td>\n",
              "    </tr>\n",
              "    <tr>\n",
              "      <th>452</th>\n",
              "      <td>Jan 01, 1985</td>\n",
              "      <td>167.2</td>\n",
              "      <td>180.27</td>\n",
              "      <td>163.36</td>\n",
              "      <td>179.63</td>\n",
              "      <td>179.63</td>\n",
              "      <td>2,673,710,000</td>\n",
              "    </tr>\n",
              "  </tbody>\n",
              "</table>\n",
              "<p>453 rows × 7 columns</p>\n",
              "</div>"
            ],
            "text/plain": [
              "             Date      Open      High       Low     Close Adj Close  \\\n",
              "0    Sep 01, 2022  3,936.73  4,119.28  3,610.40  3,640.47  3,640.47   \n",
              "1    Aug 01, 2022  4,112.38  4,325.28  3,954.53  3,955.00  3,955.00   \n",
              "2    Jul 01, 2022  3,781.00  4,140.15  3,721.56  4,130.29  4,130.29   \n",
              "3    Jun 01, 2022  4,149.78  4,177.51  3,636.87  3,785.38  3,785.38   \n",
              "4    May 01, 2022  4,130.61  4,307.66  3,810.32  4,132.15  4,132.15   \n",
              "..            ...       ...       ...       ...       ...       ...   \n",
              "448  May 01, 1985    179.83    189.98    178.35    189.55    189.55   \n",
              "449  Apr 01, 1985    180.66    183.61    177.86    179.83    179.83   \n",
              "450  Mar 01, 1985    181.18    183.89    176.53    180.66    180.66   \n",
              "451  Feb 01, 1985    179.63    183.95    177.75    181.18    181.18   \n",
              "452  Jan 01, 1985     167.2    180.27    163.36    179.63    179.63   \n",
              "\n",
              "             Volume  \n",
              "0    88,667,050,000  \n",
              "1    78,088,520,000  \n",
              "2    68,021,140,000  \n",
              "3    86,799,060,000  \n",
              "4    89,128,130,000  \n",
              "..              ...  \n",
              "448   2,350,340,000  \n",
              "449   1,981,880,000  \n",
              "450   2,153,090,000  \n",
              "451   2,194,620,000  \n",
              "452   2,673,710,000  \n",
              "\n",
              "[453 rows x 7 columns]"
            ]
          },
          "execution_count": 5,
          "metadata": {},
          "output_type": "execute_result"
        }
      ],
      "source": [
        "df = pd.read_csv('sp_500.csv')\n",
        "df"
      ]
    },
    {
      "cell_type": "code",
      "execution_count": 7,
      "metadata": {},
      "outputs": [
        {
          "data": {
            "text/plain": [
              "Date         object\n",
              "Open         object\n",
              "High         object\n",
              "Low          object\n",
              "Close        object\n",
              "Adj Close    object\n",
              "Volume       object\n",
              "dtype: object"
            ]
          },
          "execution_count": 7,
          "metadata": {},
          "output_type": "execute_result"
        }
      ],
      "source": [
        "df.dtypes"
      ]
    }
  ],
  "metadata": {
    "colab": {
      "authorship_tag": "ABX9TyNnYm3wLQahcd82+t1U0Fbw",
      "include_colab_link": true,
      "private_outputs": true,
      "provenance": []
    },
    "kernelspec": {
      "display_name": "Python 3.9.13 64-bit (microsoft store)",
      "language": "python",
      "name": "python3"
    },
    "language_info": {
      "codemirror_mode": {
        "name": "ipython",
        "version": 3
      },
      "file_extension": ".py",
      "mimetype": "text/x-python",
      "name": "python",
      "nbconvert_exporter": "python",
      "pygments_lexer": "ipython3",
      "version": "3.9.13"
    },
    "vscode": {
      "interpreter": {
        "hash": "d43d5ff3024d1fbad35170d5e073a78182819c5467e9bfee736ab77fd89c0886"
      }
    }
  },
  "nbformat": 4,
  "nbformat_minor": 0
}
