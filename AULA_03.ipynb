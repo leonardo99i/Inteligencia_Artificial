{
  "nbformat": 4,
  "nbformat_minor": 0,
  "metadata": {
    "colab": {
      "provenance": [],
      "authorship_tag": "ABX9TyN0vXf//uyHjcdS0gLNEhhQ",
      "include_colab_link": true
    },
    "kernelspec": {
      "name": "python3",
      "display_name": "Python 3"
    },
    "language_info": {
      "name": "python"
    }
  },
  "cells": [
    {
      "cell_type": "markdown",
      "metadata": {
        "id": "view-in-github",
        "colab_type": "text"
      },
      "source": [
        "<a href=\"https://colab.research.google.com/github/leonardo99i/Inteligencia_Artificial/blob/main/AULA_03.ipynb\" target=\"_parent\"><img src=\"https://colab.research.google.com/assets/colab-badge.svg\" alt=\"Open In Colab\"/></a>"
      ]
    },
    {
      "cell_type": "code",
      "source": [
        "def soma(x, y):\n",
        "  soma = x + y\n",
        "  x = 100\n",
        "  return soma, x\n"
      ],
      "metadata": {
        "id": "8tM8SPhcDfr5"
      },
      "execution_count": 19,
      "outputs": []
    },
    {
      "cell_type": "code",
      "source": [
        "x = 10 \n",
        "y = 20 \n",
        "z, x = soma(x, y)\n",
        "print(z)\n",
        "print(x)"
      ],
      "metadata": {
        "colab": {
          "base_uri": "https://localhost:8080/"
        },
        "id": "lESZfc92EUcC",
        "outputId": "5afc4dbf-0fb4-4c3a-a5aa-a2ff1dfef387"
      },
      "execution_count": 21,
      "outputs": [
        {
          "output_type": "stream",
          "name": "stdout",
          "text": [
            "30\n",
            "100\n"
          ]
        }
      ]
    },
    {
      "cell_type": "code",
      "source": [
        "x = 0 \n",
        "\n",
        "def teste():\n",
        "  global x\n",
        "  x = 10\n",
        "  print(\"Teste\")\n",
        "\n",
        "def teste_2():\n",
        "  global x\n",
        "  x = 20\n",
        "  print(\"Teste\")\n",
        "\n",
        "print(x)\n",
        "x = 5\n",
        "print(x)\n",
        "teste()"
      ],
      "metadata": {
        "colab": {
          "base_uri": "https://localhost:8080/"
        },
        "id": "7Rdv5PwNIeWq",
        "outputId": "0320a276-a8cd-4fe3-a4ee-5e6874c80282"
      },
      "execution_count": 22,
      "outputs": [
        {
          "output_type": "stream",
          "name": "stdout",
          "text": [
            "0\n",
            "5\n",
            "Teste\n"
          ]
        }
      ]
    }
  ]
}