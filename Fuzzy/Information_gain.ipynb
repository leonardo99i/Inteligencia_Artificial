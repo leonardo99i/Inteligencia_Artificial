{
  "nbformat": 4,
  "nbformat_minor": 0,
  "metadata": {
    "colab": {
      "private_outputs": true,
      "provenance": [],
      "authorship_tag": "ABX9TyM2Z1aL65lUWR/q4AtGULJI",
      "include_colab_link": true
    },
    "kernelspec": {
      "name": "python3",
      "display_name": "Python 3"
    },
    "language_info": {
      "name": "python"
    }
  },
  "cells": [
    {
      "cell_type": "markdown",
      "metadata": {
        "id": "view-in-github",
        "colab_type": "text"
      },
      "source": [
        "<a href=\"https://colab.research.google.com/github/leonardo99i/Inteligencia_Artificial/blob/main/Information_gain.ipynb\" target=\"_parent\"><img src=\"https://colab.research.google.com/assets/colab-badge.svg\" alt=\"Open In Colab\"/></a>"
      ]
    },
    {
      "cell_type": "code",
      "source": [
        "import math\n",
        "\n",
        "\n",
        "def entropy(pos, neg):\n",
        "    prob_pos = prob(pos, pos+neg)\n",
        "    prob_neg = prob(neg, pos+neg)\n",
        "    return - (dist_prob(prob_pos) + dist_prob(prob_neg))\n",
        "\n",
        "\n",
        "def dist_prob(prob):\n",
        "    if prob == 0:\n",
        "        return 0\n",
        "    return prob * math.log2(prob)\n",
        "\n",
        "\n",
        "def prob(qtd, total):\n",
        "    return qtd/total\n",
        "\n",
        "\n",
        "def ganho(S, prob_v1, entropy_v1, prob_v2, entropy_v2):\n",
        "    return S - (prob_v1*entropy_v1 + prob_v2*entropy_v2)\n",
        "\n",
        "\n",
        "if __name__ == \"__main__\":\n",
        "\n",
        "    print(\"entropia base\")\n",
        "    print(entropy(8, 12))\n",
        "\n",
        "    print(\"ganho de informacao Age (adult, child)\")\n",
        "    print(ganho(0.97, prob(12, 20), entropy(8, 4), prob(8, 20), entropy(0, 8)))\n",
        "\n",
        "    print(\"ganho de informacao Act (stretch, dip)\")\n",
        "    print(ganho(0.97, prob(12, 20), entropy(8, 4), prob(8, 20), entropy(0, 8)))\n",
        "\n",
        "    print(\"ganho de informacao Size (small, large)\")\n",
        "    print(ganho(0.97, prob(10, 20), entropy(4, 6), prob(10, 20), entropy(4, 6)))\n",
        "\n",
        "    print(\"ganho de informacao Color (yellow, purple\")\n",
        "    print(ganho(0.97, prob(10, 20), entropy(4, 6), prob(10, 20), entropy(4, 6)))\n",
        "\n",
        "    print(\"********************************************\")\n",
        "    print(\"entropia da base\")\n",
        "    print(entropy(8, 4))\n",
        "\n",
        "    print(\"ganho de informacao ACT (strectch, dip)\")\n",
        "    print(ganho(0.92, prob(8, 12), entropy(8, 0), prob(4, 12), entropy(0, 4)))\n",
        "\n",
        "    print(\"ganho de informacao Size (small, large)\")\n",
        "    print(ganho(0.92, prob(6, 12), entropy(4, 2), prob(6, 12), entropy(4, 2)))\n",
        "\n",
        "    print(\"ganho de informacao Color (yellow, purple)\")\n",
        "    print(ganho(0.92, prob(6, 12), entropy(4, 2), prob(6, 12), entropy(4, 2)))"
      ],
      "metadata": {
        "id": "2wCVD_gcYRPE"
      },
      "execution_count": null,
      "outputs": []
    }
  ]
}