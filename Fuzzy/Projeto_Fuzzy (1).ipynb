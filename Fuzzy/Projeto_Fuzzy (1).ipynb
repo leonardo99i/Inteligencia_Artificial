{
  "cells": [
    {
      "cell_type": "markdown",
      "metadata": {
        "id": "_NX8SUZluQUy"
      },
      "source": [
        "**Projeto fuzzy, integrantes:**\n",
        "\n",
        "Paulo Gustavo Sousa Brito - 125111378562\n",
        "Leonardo Ribeiro Leonardi - 125111359610\n",
        "Alison Gustavo Pena da Silva - 125111349299"
      ]
    },
    {
      "cell_type": "code",
      "execution_count": null,
      "metadata": {
        "id": "C5LEPvtmUnn8"
      },
      "outputs": [],
      "source": [
        "'''\n",
        "Passo 1 - Definição do Problema.\n",
        "Tempo atigindo pelo carro dependendo do tipo do motor e do rpm\n",
        "Motores: 1.6 -> 12s, 1.8 -> 10s, 2.0 -> 9s\n",
        "'''"
      ]
    },
    {
      "cell_type": "code",
      "execution_count": 1,
      "metadata": {
        "id": "E5LuDKeQpTuU"
      },
      "outputs": [
        {
          "name": "stdout",
          "output_type": "stream",
          "text": [
            "Requirement already satisfied: matplotlib in c:\\users\\leona\\appdata\\local\\packages\\pythonsoftwarefoundation.python.3.9_qbz5n2kfra8p0\\localcache\\local-packages\\python39\\site-packages (3.6.0)\n",
            "Requirement already satisfied: cycler>=0.10 in c:\\users\\leona\\appdata\\local\\packages\\pythonsoftwarefoundation.python.3.9_qbz5n2kfra8p0\\localcache\\local-packages\\python39\\site-packages (from matplotlib) (0.11.0)\n",
            "Requirement already satisfied: fonttools>=4.22.0 in c:\\users\\leona\\appdata\\local\\packages\\pythonsoftwarefoundation.python.3.9_qbz5n2kfra8p0\\localcache\\local-packages\\python39\\site-packages (from matplotlib) (4.37.4)\n",
            "Requirement already satisfied: contourpy>=1.0.1 in c:\\users\\leona\\appdata\\local\\packages\\pythonsoftwarefoundation.python.3.9_qbz5n2kfra8p0\\localcache\\local-packages\\python39\\site-packages (from matplotlib) (1.0.5)\n",
            "Requirement already satisfied: pyparsing>=2.2.1 in c:\\users\\leona\\appdata\\local\\packages\\pythonsoftwarefoundation.python.3.9_qbz5n2kfra8p0\\localcache\\local-packages\\python39\\site-packages (from matplotlib) (3.0.7)\n",
            "Requirement already satisfied: packaging>=20.0 in c:\\users\\leona\\appdata\\local\\packages\\pythonsoftwarefoundation.python.3.9_qbz5n2kfra8p0\\localcache\\local-packages\\python39\\site-packages (from matplotlib) (21.3)\n",
            "Requirement already satisfied: pillow>=6.2.0 in c:\\users\\leona\\appdata\\local\\packages\\pythonsoftwarefoundation.python.3.9_qbz5n2kfra8p0\\localcache\\local-packages\\python39\\site-packages (from matplotlib) (9.2.0)\n",
            "Requirement already satisfied: kiwisolver>=1.0.1 in c:\\users\\leona\\appdata\\local\\packages\\pythonsoftwarefoundation.python.3.9_qbz5n2kfra8p0\\localcache\\local-packages\\python39\\site-packages (from matplotlib) (1.4.4)\n",
            "Requirement already satisfied: numpy>=1.19 in c:\\users\\leona\\appdata\\local\\packages\\pythonsoftwarefoundation.python.3.9_qbz5n2kfra8p0\\localcache\\local-packages\\python39\\site-packages (from matplotlib) (1.22.3)\n",
            "Requirement already satisfied: python-dateutil>=2.7 in c:\\users\\leona\\appdata\\local\\packages\\pythonsoftwarefoundation.python.3.9_qbz5n2kfra8p0\\localcache\\local-packages\\python39\\site-packages (from matplotlib) (2.8.2)\n",
            "Requirement already satisfied: six>=1.5 in c:\\users\\leona\\appdata\\local\\packages\\pythonsoftwarefoundation.python.3.9_qbz5n2kfra8p0\\localcache\\local-packages\\python39\\site-packages (from python-dateutil>=2.7->matplotlib) (1.16.0)\n",
            "\n",
            "[notice] A new release of pip available: 22.1.2 -> 22.3.1\n",
            "[notice] To update, run: C:\\Users\\leona\\AppData\\Local\\Microsoft\\WindowsApps\\PythonSoftwareFoundation.Python.3.9_qbz5n2kfra8p0\\python.exe -m pip install --upgrade pip\n"
          ]
        }
      ],
      "source": [
        "%pip install matplotlib"
      ]
    },
    {
      "cell_type": "code",
      "execution_count": 2,
      "metadata": {
        "id": "rQQ6guITpXLX"
      },
      "outputs": [
        {
          "name": "stdout",
          "output_type": "stream",
          "text": [
            "Requirement already satisfied: scikit-fuzzy in c:\\users\\leona\\appdata\\local\\packages\\pythonsoftwarefoundation.python.3.9_qbz5n2kfra8p0\\localcache\\local-packages\\python39\\site-packages (0.4.2)\n",
            "Requirement already satisfied: numpy>=1.6.0 in c:\\users\\leona\\appdata\\local\\packages\\pythonsoftwarefoundation.python.3.9_qbz5n2kfra8p0\\localcache\\local-packages\\python39\\site-packages (from scikit-fuzzy) (1.22.3)\n",
            "Requirement already satisfied: scipy>=0.9.0 in c:\\users\\leona\\appdata\\local\\packages\\pythonsoftwarefoundation.python.3.9_qbz5n2kfra8p0\\localcache\\local-packages\\python39\\site-packages (from scikit-fuzzy) (1.9.1)\n",
            "Requirement already satisfied: networkx>=1.9.0 in c:\\users\\leona\\appdata\\local\\packages\\pythonsoftwarefoundation.python.3.9_qbz5n2kfra8p0\\localcache\\local-packages\\python39\\site-packages (from scikit-fuzzy) (2.8.7)\n",
            "\n",
            "[notice] A new release of pip available: 22.1.2 -> 22.3.1\n",
            "[notice] To update, run: C:\\Users\\leona\\AppData\\Local\\Microsoft\\WindowsApps\\PythonSoftwareFoundation.Python.3.9_qbz5n2kfra8p0\\python.exe -m pip install --upgrade pip\n",
            "Note: you may need to restart the kernel to use updated packages.\n"
          ]
        }
      ],
      "source": [
        "%pip install -U scikit-fuzzy"
      ]
    },
    {
      "cell_type": "code",
      "execution_count": 3,
      "metadata": {
        "id": "VT7-IQhspcXq"
      },
      "outputs": [],
      "source": [
        "import matplotlib.pyplot as plt\n",
        "import numpy as np\n",
        "import skfuzzy as fuzz\n",
        "from skfuzzy import control as ctrl"
      ]
    },
    {
      "cell_type": "code",
      "execution_count": 4,
      "metadata": {
        "colab": {
          "base_uri": "https://localhost:8080/",
          "height": 298
        },
        "id": "y3rmH1DVXqyD",
        "outputId": "24d65dcd-18d7-40dc-b0c0-824ecdbf65ea"
      },
      "outputs": [
        {
          "name": "stdout",
          "output_type": "stream",
          "text": [
            "4.859649122807017\n"
          ]
        },
        {
          "name": "stderr",
          "output_type": "stream",
          "text": [
            "C:\\Users\\leona\\AppData\\Local\\Packages\\PythonSoftwareFoundation.Python.3.9_qbz5n2kfra8p0\\LocalCache\\local-packages\\Python39\\site-packages\\skfuzzy\\control\\fuzzyvariable.py:122: UserWarning: Matplotlib is currently using module://matplotlib_inline.backend_inline, which is a non-GUI backend, so cannot show the figure.\n",
            "  fig.show()\n"
          ]
        },
        {
          "data": {
            "image/png": "[encoded data removed]",
            "text/plain": [
              "<Figure size 432x288 with 1 Axes>"
            ]
          },
          "metadata": {
            "needs_background": "light"
          },
          "output_type": "display_data"
        }
      ],
      "source": [
        "if __name__==\"__main__\":\n",
        "\n",
        "  #variáveis de entrada:\n",
        "  rpm = ctrl.Antecedent(np.arange(0, 12, 1), 'rpm')\n",
        "  potencia = ctrl.Antecedent(np.arange(0, 151, 1), 'potencia')\n",
        "\n",
        "  #variável de saída:\n",
        "  tempo = ctrl.Consequent(np.arange(0, 14, 1), 'tempo')\n",
        "\n",
        "  #fuzzificação:\n",
        "  rpm['baixo'] = fuzz.trimf((rpm.universe), [1, 2, 3])\n",
        "  rpm['medio'] = fuzz.trimf((rpm.universe), [3, 4, 5])\n",
        "  rpm['maximo'] = fuzz.trimf((rpm.universe),[6, 7, 8])\n",
        "\n",
        "  potencia['motor_1.6'] = fuzz.trapmf(potencia.universe, [0, 0, 50, 100])\n",
        "  potencia['motor_1.8'] = fuzz.trimf(potencia.universe, [50, 85, 120])\n",
        "  potencia['motor_2.0'] = fuzz.trapmf(potencia.universe, [80, 120, 150, 150])\n",
        "\n",
        "  tempo['minimo'] = fuzz.trapmf(tempo.universe,[0, 0, 3, 9])\n",
        "  tempo['medio'] = fuzz.trapmf(tempo.universe, [0, 0, 5, 10])\n",
        "  tempo['maximo'] = fuzz.trapmf(tempo.universe, [0, 0, 7, 12]) \n",
        "\n",
        "  #definindo as regras\n",
        "  regra1 = ctrl.Rule(potencia['motor_1.6'] | rpm['baixo'], tempo['maximo'])\n",
        "  regra2 = ctrl.Rule(potencia['motor_1.8'] | rpm['medio'], tempo['medio'])\n",
        "  regra3 = ctrl.Rule(potencia['motor_2.0'] | rpm['maximo'], tempo['minimo'])\n",
        "\n",
        "  #ativação de regras\n",
        "  controle_do_sistema = ctrl.ControlSystem([regra1, regra2, regra3])\n",
        "  simulador_automobilistico = ctrl.ControlSystemSimulation(controle_do_sistema)\n",
        "  \n",
        "  #mostrando os valores\n",
        "  simulador_automobilistico.input['rpm'] =8\n",
        "  simulador_automobilistico.input['potencia'] =50\n",
        "\n",
        "  simulador_automobilistico.compute()\n",
        "  print(simulador_automobilistico.output['tempo'])\n",
        "\n",
        "  tempo.view(sim=simulador_automobilistico)"
      ]
    }
  ],
  "metadata": {
    "colab": {
      "collapsed_sections": [],
      "provenance": []
    },
    "kernelspec": {
      "display_name": "Python 3.9.13 64-bit (microsoft store)",
      "language": "python",
      "name": "python3"
    },
    "language_info": {
      "codemirror_mode": {
        "name": "ipython",
        "version": 3
      },
      "file_extension": ".py",
      "mimetype": "text/x-python",
      "name": "python",
      "nbconvert_exporter": "python",
      "pygments_lexer": "ipython3",
      "version": "3.9.13"
    },
    "vscode": {
      "interpreter": {
        "hash": "d43d5ff3024d1fbad35170d5e073a78182819c5467e9bfee736ab77fd89c0886"
      }
    }
  },
  "nbformat": 4,
  "nbformat_minor": 0
}
