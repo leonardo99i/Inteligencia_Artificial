{
  "nbformat": 4,
  "nbformat_minor": 0,
  "metadata": {
    "colab": {
      "private_outputs": true,
      "provenance": [],
      "authorship_tag": "ABX9TyM+UmKhll94nyXYzI95KnGX",
      "include_colab_link": true
    },
    "kernelspec": {
      "name": "python3",
      "display_name": "Python 3"
    },
    "language_info": {
      "name": "python"
    }
  },
  "cells": [
    {
      "cell_type": "markdown",
      "metadata": {
        "id": "view-in-github",
        "colab_type": "text"
      },
      "source": [
        "<a href=\"https://colab.research.google.com/github/leonardo99i/Inteligencia_Artificial/blob/main/Aula_06.ipynb\" target=\"_parent\"><img src=\"https://colab.research.google.com/assets/colab-badge.svg\" alt=\"Open In Colab\"/></a>"
      ]
    },
    {
      "cell_type": "code",
      "execution_count": null,
      "metadata": {
        "id": "CDdh9EZJhz6h"
      },
      "outputs": [],
      "source": [
        "import pandas as pd"
      ]
    },
    {
      "cell_type": "code",
      "source": [
        "#Criando um dataframe vazio\n",
        "#https://pandas.pydata.org/docs/reference/api/pandas.DataFrame.html\n",
        "\n",
        "df = pd.DataFrame()\n",
        "df"
      ],
      "metadata": {
        "id": "h7Ec0YSNh9OZ"
      },
      "execution_count": null,
      "outputs": []
    },
    {
      "cell_type": "code",
      "source": [
        "#A linha de codigo a seguir ira gerar um erro\n",
        "df.describe()"
      ],
      "metadata": {
        "id": "RCsvHP7ciST9"
      },
      "execution_count": null,
      "outputs": []
    },
    {
      "cell_type": "code",
      "source": [
        "#Adicionando duas colunas no dataframe\n",
        "l1 = [1,2,\"3\", 4, 5]\n",
        "l2 = [2,4,6,8,10]\n",
        "\n",
        "df['a'] = l1\n",
        "df['b'] = l2\n",
        "\n",
        "df"
      ],
      "metadata": {
        "id": "v4zicbSFiZwt"
      },
      "execution_count": null,
      "outputs": []
    },
    {
      "cell_type": "code",
      "source": [
        "l3 = ['a', 'b', 'c', 'd', 'e']\n",
        "df['c'] = l3\n",
        "df"
      ],
      "metadata": {
        "id": "ym9he_cjiw8O"
      },
      "execution_count": null,
      "outputs": []
    },
    {
      "cell_type": "code",
      "source": [
        "#Estatistica Descritivas de cada coluna do dataframe\n",
        "df.describe()"
      ],
      "metadata": {
        "id": "Knvs_8LTjMIt"
      },
      "execution_count": null,
      "outputs": []
    },
    {
      "cell_type": "code",
      "source": [
        "#Tipos de dados das colunas do dataframe\n",
        "df.dtypes"
      ],
      "metadata": {
        "id": "Y9qROgq3jkqO"
      },
      "execution_count": null,
      "outputs": []
    },
    {
      "cell_type": "markdown",
      "source": [
        "Parte 2 - Manipulação de Dados no Pandas"
      ],
      "metadata": {
        "id": "12vum7mXjvat"
      }
    },
    {
      "cell_type": "code",
      "source": [
        "#Importação de bibliotacas\n",
        "import pandas as pd"
      ],
      "metadata": {
        "id": "lfScNaeej0aG"
      },
      "execution_count": null,
      "outputs": []
    },
    {
      "cell_type": "code",
      "source": [
        "from google.colab import drive\n",
        "drive.amount('/content/drive/')"
      ],
      "metadata": {
        "id": "KSVCK5JGj7Qe"
      },
      "execution_count": null,
      "outputs": []
    },
    {
      "cell_type": "code",
      "source": [
        "#Configuração para mostrar todas as linhas e colunas do dataframe\n",
        "#pd.set_option(\"display.max_rows\", None)\n",
        "df = pd.set.read_csv('soja_milho.csv', sep = ';')\n",
        "df"
      ],
      "metadata": {
        "id": "nU5CdE7FknFm"
      },
      "execution_count": null,
      "outputs": []
    }
  ]
}