{
  "nbformat": 4,
  "nbformat_minor": 0,
  "metadata": {
    "colab": {
      "provenance": [],
      "collapsed_sections": [],
      "include_colab_link": true
    },
    "kernelspec": {
      "name": "python3",
      "display_name": "Python 3"
    },
    "language_info": {
      "name": "python"
    }
  },
  "cells": [
    {
      "cell_type": "markdown",
      "metadata": {
        "id": "view-in-github",
        "colab_type": "text"
      },
      "source": [
        "<a href=\"https://colab.research.google.com/github/leonardo99i/Inteligencia_Artificial/blob/main/Projeto_FUZZY.ipynb\" target=\"_parent\"><img src=\"https://colab.research.google.com/assets/colab-badge.svg\" alt=\"Open In Colab\"/></a>"
      ]
    },
    {
      "cell_type": "markdown",
      "source": [
        "projeto fuzzy\n"
      ],
      "metadata": {
        "id": "URKePJZIUpGW"
      }
    },
    {
      "cell_type": "code",
      "execution_count": null,
      "metadata": {
        "id": "C5LEPvtmUnn8"
      },
      "outputs": [],
      "source": [
        "#Passo 1 - Definição do Problema.\n",
        "'''\n",
        "* Tempo em que um carro atinge 100 Km/h dependendo da capacidade do motor\n",
        "* Utilizando o Modelo Honda Civic, modelo New Civic 2000-2011 motores 1.6, 1.8 e 2.0\n",
        "* 1.6 -> 12\n",
        "* 1.8 -> 10s\n",
        "* 2.0 -> 9s\n",
        "* => Velocidade, Potencia do Motor, Tempo, Modelo do Carro\n",
        "'''"
      ]
    },
    {
      "cell_type": "code",
      "source": [
        "!pip install matplotlib"
      ],
      "metadata": {
        "colab": {
          "base_uri": "https://localhost:8080/"
        },
        "id": "E5LuDKeQpTuU",
        "outputId": "67c11906-a059-4757-fe45-b70814a7f86d"
      },
      "execution_count": null,
      "outputs": [
        {
          "output_type": "stream",
          "name": "stdout",
          "text": [
            "Looking in indexes: https://pypi.org/simple, https://us-python.pkg.dev/colab-wheels/public/simple/\n",
            "Requirement already satisfied: matplotlib in /usr/local/lib/python3.7/dist-packages (3.2.2)\n",
            "Requirement already satisfied: numpy>=1.11 in /usr/local/lib/python3.7/dist-packages (from matplotlib) (1.21.6)\n",
            "Requirement already satisfied: pyparsing!=2.0.4,!=2.1.2,!=2.1.6,>=2.0.1 in /usr/local/lib/python3.7/dist-packages (from matplotlib) (3.0.9)\n",
            "Requirement already satisfied: kiwisolver>=1.0.1 in /usr/local/lib/python3.7/dist-packages (from matplotlib) (1.4.4)\n",
            "Requirement already satisfied: cycler>=0.10 in /usr/local/lib/python3.7/dist-packages (from matplotlib) (0.11.0)\n",
            "Requirement already satisfied: python-dateutil>=2.1 in /usr/local/lib/python3.7/dist-packages (from matplotlib) (2.8.2)\n",
            "Requirement already satisfied: typing-extensions in /usr/local/lib/python3.7/dist-packages (from kiwisolver>=1.0.1->matplotlib) (4.1.1)\n",
            "Requirement already satisfied: six>=1.5 in /usr/local/lib/python3.7/dist-packages (from python-dateutil>=2.1->matplotlib) (1.15.0)\n"
          ]
        }
      ]
    },
    {
      "cell_type": "code",
      "source": [
        "!pip install -U scikit-fuzzy"
      ],
      "metadata": {
        "colab": {
          "base_uri": "https://localhost:8080/"
        },
        "id": "rQQ6guITpXLX",
        "outputId": "d8085fa1-aa39-4c51-e74b-b9bd4abe40c0"
      },
      "execution_count": null,
      "outputs": [
        {
          "output_type": "stream",
          "name": "stdout",
          "text": [
            "Looking in indexes: https://pypi.org/simple, https://us-python.pkg.dev/colab-wheels/public/simple/\n",
            "Collecting scikit-fuzzy\n",
            "  Downloading scikit-fuzzy-0.4.2.tar.gz (993 kB)\n",
            "\u001b[K     |████████████████████████████████| 993 kB 2.0 MB/s \n",
            "\u001b[?25hRequirement already satisfied: numpy>=1.6.0 in /usr/local/lib/python3.7/dist-packages (from scikit-fuzzy) (1.21.6)\n",
            "Requirement already satisfied: scipy>=0.9.0 in /usr/local/lib/python3.7/dist-packages (from scikit-fuzzy) (1.7.3)\n",
            "Requirement already satisfied: networkx>=1.9.0 in /usr/local/lib/python3.7/dist-packages (from scikit-fuzzy) (2.6.3)\n",
            "Building wheels for collected packages: scikit-fuzzy\n",
            "  Building wheel for scikit-fuzzy (setup.py) ... \u001b[?25l\u001b[?25hdone\n",
            "  Created wheel for scikit-fuzzy: filename=scikit_fuzzy-0.4.2-py3-none-any.whl size=894089 sha256=d861fd77a470e49a39b4fd5c820bd0b20517d52fecf2d903d60553a7b3e6f28d\n",
            "  Stored in directory: /root/.cache/pip/wheels/d5/74/fc/38588a3d2e3f34f74588e6daa3aa5b0a322bd6f9420a707131\n",
            "Successfully built scikit-fuzzy\n",
            "Installing collected packages: scikit-fuzzy\n",
            "Successfully installed scikit-fuzzy-0.4.2\n"
          ]
        }
      ]
    },
    {
      "cell_type": "code",
      "source": [
        "import matplotlib.pyplot as plt\n",
        "import numpy as np\n",
        "import skfuzzy as fuzz\n",
        "from skfuzzy import control as ctrl"
      ],
      "metadata": {
        "id": "VT7-IQhspcXq"
      },
      "execution_count": null,
      "outputs": []
    },
    {
      "cell_type": "code",
      "source": [
        "if __name__==\"__main__\":\n",
        "\n",
        "  #variáveis de entrada:\n",
        "  velocidade = ctrl.Antecedent(np.arange(0, 101, 1), 'velocidade')\n",
        "  potencia = ctrl.Antecedent(np.arange(0, 151, 1), 'potencia')\n",
        "\n",
        "  #variável de saída:\n",
        "  tempo = ctrl.Consequent(np.arange(0, 13, 1), 'risco')\n",
        "\n",
        "  #fuzzificação:\n",
        "  velocidade['minima'] = fuzz.trimf(velocidade.universe, [0, 25, 50])\n",
        "  velocidade['medio'] = fuzz.trimf(velocidade.universe, [25, 50, 75])\n",
        "  velocidade['maxima'] = fuzz.trimf(velocidade.universe, [50, 75, 100])\n",
        "\n",
        "  potencia['motor_1.6'] = fuzz.trapmf(potencia.universe, [0, 0, 50, 100])\n",
        "  potencia['motor_1.8'] = fuzz.trimf(potencia.universe, [50, 85, 120])\n",
        "  potencia['motor_2.0'] = fuzz.trapmf(potencia.universe, [80, 120, 150, 150])\n",
        "  \n",
        "  #definindo as regras\n",
        "  regra1 =ctrl.Rule(potencia['1.6'] | velocidade[])\n",
        "  regra2 = \n",
        "  regra3 =\n",
        "\n",
        "\n",
        "\n",
        "\n",
        "  #ativação de regras\n",
        "  tempo_de_chegada = ctrl.ControlSystem([regra1, regra2, regra3])\n",
        "  potencia_motor = ctrl.ControlSystemSimulation(tempo_de_chegada)\n",
        "  \n",
        "\n",
        "  potencia.view()\n"
      ],
      "metadata": {
        "colab": {
          "base_uri": "https://localhost:8080/",
          "height": 281
        },
        "id": "y3rmH1DVXqyD",
        "outputId": "ea4153ec-7bd6-4afe-a3e5-b4ef48386ce7"
      },
      "execution_count": null,
      "outputs": [
        {
          "output_type": "display_data",
          "data": {
            "text/plain": [
              "<Figure size 432x288 with 1 Axes>"
            ],
            "image/png": "[encoded data removed]"
          },
          "metadata": {
            "needs_background": "light"
          }
        }
      ]
    }
  ]
}