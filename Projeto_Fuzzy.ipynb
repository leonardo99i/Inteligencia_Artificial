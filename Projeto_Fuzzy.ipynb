{
  "nbformat": 4,
  "nbformat_minor": 0,
  "metadata": {
    "colab": {
      "provenance": [],
      "collapsed_sections": [],
      "include_colab_link": true
    },
    "kernelspec": {
      "name": "python3",
      "display_name": "Python 3"
    },
    "language_info": {
      "name": "python"
    }
  },
  "cells": [
    {
      "cell_type": "markdown",
      "metadata": {
        "id": "view-in-github",
        "colab_type": "text"
      },
      "source": [
        "<a href=\"https://colab.research.google.com/github/leonardo99i/Inteligencia_Artificial/blob/main/Projeto_Fuzzy.ipynb\" target=\"_parent\"><img src=\"https://colab.research.google.com/assets/colab-badge.svg\" alt=\"Open In Colab\"/></a>"
      ]
    },
    {
      "cell_type": "markdown",
      "source": [
        "**Projeto fuzzy, integrantes:**\n",
        "\n",
        "Paulo Gustavo Sousa Brito - 125111378562\n",
        "Leonardo Ribeiro Leonardi - 125111359610\n",
        "Alison Gustavo Pena da Silva - 125111349299"
      ],
      "metadata": {
        "id": "_NX8SUZluQUy"
      }
    },
    {
      "cell_type": "code",
      "execution_count": null,
      "metadata": {
        "id": "C5LEPvtmUnn8"
      },
      "outputs": [],
      "source": [
        "'''\n",
        "Passo 1 - Definição do Problema.\n",
        "Tempo atigindo pelo carro dependendo do tipo do motor e do rpm\n",
        "Motores: 1.6 -> 12s, 1.8 -> 10s, 2.0 -> 9s\n",
        "'''"
      ]
    },
    {
      "cell_type": "code",
      "source": [
        "!pip install matplotlib"
      ],
      "metadata": {
        "id": "E5LuDKeQpTuU"
      },
      "execution_count": null,
      "outputs": []
    },
    {
      "cell_type": "code",
      "source": [
        "!pip install -U scikit-fuzzy"
      ],
      "metadata": {
        "id": "rQQ6guITpXLX"
      },
      "execution_count": null,
      "outputs": []
    },
    {
      "cell_type": "code",
      "source": [
        "import matplotlib.pyplot as plt\n",
        "import numpy as np\n",
        "import skfuzzy as fuzz\n",
        "from skfuzzy import control as ctrl"
      ],
      "metadata": {
        "id": "VT7-IQhspcXq"
      },
      "execution_count": 3,
      "outputs": []
    },
    {
      "cell_type": "code",
      "source": [
        "if __name__==\"__main__\":\n",
        "\n",
        "  #variáveis de entrada:\n",
        "  rpm = ctrl.Antecedent(np.arange(0, 12, 1), 'rpm')\n",
        "  potencia = ctrl.Antecedent(np.arange(0, 151, 1), 'potencia')\n",
        "\n",
        "  #variável de saída:\n",
        "  tempo = ctrl.Consequent(np.arange(0, 14, 1), 'tempo')\n",
        "\n",
        "  #fuzzificação:\n",
        "  rpm['baixo'] = fuzz.trimf((rpm.universe), [1, 2, 3])\n",
        "  rpm['medio'] = fuzz.trimf((rpm.universe), [3, 4, 5])\n",
        "  rpm['maximo'] = fuzz.trimf((rpm.universe),[6, 7, 8])\n",
        "\n",
        "  potencia['motor_1.6'] = fuzz.trapmf(potencia.universe, [0, 0, 50, 100])\n",
        "  potencia['motor_1.8'] = fuzz.trimf(potencia.universe, [50, 85, 120])\n",
        "  potencia['motor_2.0'] = fuzz.trapmf(potencia.universe, [80, 120, 150, 150])\n",
        "\n",
        "  tempo['minimo'] = fuzz.trapmf(tempo.universe,[0, 0, 3, 9])\n",
        "  tempo['medio'] = fuzz.trapmf(tempo.universe, [0, 0, 5, 10])\n",
        "  tempo['maximo'] = fuzz.trapmf(tempo.universe, [0, 0, 7, 12]) \n",
        "\n",
        "  #definindo as regras\n",
        "  regra1 = ctrl.Rule(potencia['motor_1.6'] | rpm['baixo'], tempo['maximo'])\n",
        "  regra2 = ctrl.Rule(potencia['motor_1.8'] | rpm['medio'], tempo['medio'])\n",
        "  regra3 = ctrl.Rule(potencia['motor_2.0'] | rpm['maximo'], tempo['minimo'])\n",
        "\n",
        "  \n",
        "\n",
        "  #ativação de regras\n",
        "  controle_do_sistema = ctrl.ControlSystem([regra1, regra2, regra3])\n",
        "  simulador_automobilistico = ctrl.ControlSystemSimulation(controle_do_sistema)\n",
        "  \n",
        "  #mostrando os valores\n",
        "  simulador_automobilistico.input['rpm'] =8\n",
        "  simulador_automobilistico.input['potencia'] =50\n",
        "\n",
        "  simulador_automobilistico.compute()\n",
        "  print(simulador_automobilistico.output['tempo'])\n",
        "\n",
        "  tempo.view(sim=simulador_automobilistico)"
      ],
      "metadata": {
        "colab": {
          "base_uri": "https://localhost:8080/",
          "height": 298
        },
        "id": "y3rmH1DVXqyD",
        "outputId": "24d65dcd-18d7-40dc-b0c0-824ecdbf65ea"
      },
      "execution_count": 37,
      "outputs": [
        {
          "output_type": "stream",
          "name": "stdout",
          "text": [
            "4.859649122807017\n"
          ]
        },
        {
          "output_type": "display_data",
          "data": {
            "text/plain": [
              "<Figure size 432x288 with 1 Axes>"
            ],
            "image/png": "[encoded data removed]"
          },
          "metadata": {
            "needs_background": "light"
          }
        }
      ]
    }
  ]
}