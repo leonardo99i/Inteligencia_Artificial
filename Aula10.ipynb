{
  "nbformat": 4,
  "nbformat_minor": 0,
  "metadata": {
    "colab": {
      "private_outputs": true,
      "provenance": [],
      "authorship_tag": "ABX9TyNe9iIyIWlBn3/W3uUhjbop",
      "include_colab_link": true
    },
    "kernelspec": {
      "name": "python3",
      "display_name": "Python 3"
    },
    "language_info": {
      "name": "python"
    }
  },
  "cells": [
    {
      "cell_type": "markdown",
      "metadata": {
        "id": "view-in-github",
        "colab_type": "text"
      },
      "source": [
        "<a href=\"https://colab.research.google.com/github/leonardo99i/Inteligencia_Artificial/blob/main/Aula10.ipynb\" target=\"_parent\"><img src=\"https://colab.research.google.com/assets/colab-badge.svg\" alt=\"Open In Colab\"/></a>"
      ]
    },
    {
      "cell_type": "code",
      "execution_count": null,
      "metadata": {
        "id": "Uv81HwGeOocx"
      },
      "outputs": [],
      "source": [
        "from google.colab import drive\n",
        "drive.mount('/content/drive/')"
      ]
    },
    {
      "cell_type": "code",
      "source": [
        "import pandas as pd\n",
        "import numpy as np"
      ],
      "metadata": {
        "id": "FwmKXXziX1cS"
      },
      "execution_count": null,
      "outputs": []
    },
    {
      "cell_type": "code",
      "source": [
        "df = pd.read_csv('/content/drive/My Drive/IA/breast-cancer.csv')\n",
        "df"
      ],
      "metadata": {
        "id": "mXIfTlY9ZiW6"
      },
      "execution_count": null,
      "outputs": []
    },
    {
      "cell_type": "code",
      "source": [
        "df.dtypes"
      ],
      "metadata": {
        "id": "q4sH-FFCZqDA"
      },
      "execution_count": null,
      "outputs": []
    },
    {
      "cell_type": "code",
      "source": [
        "df['Class'].value_counts()"
      ],
      "metadata": {
        "id": "P66NTVHbZxcw"
      },
      "execution_count": null,
      "outputs": []
    },
    {
      "cell_type": "code",
      "source": [
        "#Dropando a primeira coluna, pois ela não tem informações relevantes\n",
        "df.drop(['Sample Code Number'], axis = 1, inplace = True)\n",
        "\n",
        "#Dropando a coluna \"Bare Nuclei\"\n",
        "df.drop(['Bare Nuclei'], axis = 1, inplace = True)\n",
        "\n",
        "#Mudando a representação de \"Classe\" de 2/4 para 0/1\n",
        "#Agora 0 indica em cancer benigno e 1 indica um cancer maligno\n",
        "df['Class'] = np.where(df['Class'] == 2,0,1)"
      ],
      "metadata": {
        "id": "9UbnaPVEamcZ"
      },
      "execution_count": null,
      "outputs": []
    },
    {
      "cell_type": "code",
      "source": [
        "df['Class'].value_counts()"
      ],
      "metadata": {
        "id": "ZbAuQIkNbvFp"
      },
      "execution_count": null,
      "outputs": []
    },
    {
      "cell_type": "markdown",
      "source": [
        "Regressão Logística (Aula08)"
      ],
      "metadata": {
        "id": "iN3ODtK9cWVo"
      }
    }
  ]
}