{
  "nbformat": 4,
  "nbformat_minor": 0,
  "metadata": {
    "colab": {
      "private_outputs": true,
      "provenance": [],
      "collapsed_sections": [],
      "authorship_tag": "ABX9TyNsw4nLHmY3uiOqoPsVLBrs",
      "include_colab_link": true
    },
    "kernelspec": {
      "name": "python3",
      "display_name": "Python 3"
    },
    "language_info": {
      "name": "python"
    }
  },
  "cells": [
    {
      "cell_type": "markdown",
      "metadata": {
        "id": "view-in-github",
        "colab_type": "text"
      },
      "source": [
        "<a href=\"https://colab.research.google.com/github/leonardo99i/Inteligencia_Artificial/blob/main/AULA_04.ipynb\" target=\"_parent\"><img src=\"https://colab.research.google.com/assets/colab-badge.svg\" alt=\"Open In Colab\"/></a>"
      ]
    },
    {
      "cell_type": "code",
      "execution_count": null,
      "metadata": {
        "id": "9_uUz-xOCyvT"
      },
      "outputs": [],
      "source": [
        "x = [1, \"Python\", 30.5]\n",
        "print(x)\n",
        "x.append(10)\n",
        "print(x)"
      ]
    },
    {
      "cell_type": "code",
      "source": [
        "x = [1, \"Python\", 30.5]\n",
        "\n",
        "for elemento in x:\n",
        "  print(elemento)\n",
        "\n",
        "print(\"===================\")\n",
        "\n",
        "for i in range(len(x)):\n",
        "  print(x[i])"
      ],
      "metadata": {
        "id": "WuVLF2CvEPB-"
      },
      "execution_count": null,
      "outputs": []
    },
    {
      "cell_type": "code",
      "source": [
        "x = [\"Ana\", \"Bruno\", \"Camila\", \"Daniel\"]\n",
        "nome = \"Ana\"\n",
        "\n",
        "if nome in x:\n",
        "  print(\"Achei o nome\")\n",
        "else:\n",
        "  print(\"Não achei o nome\")"
      ],
      "metadata": {
        "id": "a_pmYTA0Hk8P"
      },
      "execution_count": null,
      "outputs": []
    },
    {
      "cell_type": "code",
      "source": [
        "linha = \"1, 2, 10, 5, 7\"\n",
        "y = linha.split(\",\")\n",
        "print(y)"
      ],
      "metadata": {
        "id": "qgK4d-TlLDZ6"
      },
      "execution_count": null,
      "outputs": []
    },
    {
      "cell_type": "code",
      "source": [
        "x = {\"Chave1\": 10, \"Chave2\": 20, \"Chave3\": 30}\n",
        "\n",
        "for i in x.items():\n",
        "  print(i)\n"
      ],
      "metadata": {
        "id": "mlWanJxtQRxG"
      },
      "execution_count": null,
      "outputs": []
    },
    {
      "cell_type": "code",
      "source": [
        "x = [1, 4, 9, 32, 19, 2, 100, 9, 21, 15, 66, 999, 105, 8, 310, 11]\n",
        "\n",
        "x.sort()\n",
        "print(x)"
      ],
      "metadata": {
        "id": "KvnZmH7zf-Qy"
      },
      "execution_count": null,
      "outputs": []
    }
  ]
}