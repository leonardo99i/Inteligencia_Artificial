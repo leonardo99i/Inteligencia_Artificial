{
  "nbformat": 4,
  "nbformat_minor": 0,
  "metadata": {
    "colab": {
      "private_outputs": true,
      "provenance": [],
      "collapsed_sections": [],
      "authorship_tag": "ABX9TyOMEms0OTh0Zam8MUJzxQLl",
      "include_colab_link": true
    },
    "kernelspec": {
      "name": "python3",
      "display_name": "Python 3"
    },
    "language_info": {
      "name": "python"
    }
  },
  "cells": [
    {
      "cell_type": "markdown",
      "metadata": {
        "id": "view-in-github",
        "colab_type": "text"
      },
      "source": [
        "<a href=\"https://colab.research.google.com/github/leonardo99i/Inteligencia_Artificial/blob/main/Aula_06.ipynb\" target=\"_parent\"><img src=\"https://colab.research.google.com/assets/colab-badge.svg\" alt=\"Open In Colab\"/></a>"
      ]
    },
    {
      "cell_type": "code",
      "execution_count": null,
      "metadata": {
        "id": "CDdh9EZJhz6h"
      },
      "outputs": [],
      "source": [
        "import pandas as pd"
      ]
    },
    {
      "cell_type": "code",
      "source": [
        "#Criando um dataframe vazio\n",
        "#https://pandas.pydata.org/docs/reference/api/pandas.DataFrame.html\n",
        "\n",
        "df = pd.DataFrame()\n",
        "df"
      ],
      "metadata": {
        "id": "h7Ec0YSNh9OZ"
      },
      "execution_count": null,
      "outputs": []
    },
    {
      "cell_type": "code",
      "source": [
        "#A linha de codigo a seguir ira gerar um erro\n",
        "df.describe()"
      ],
      "metadata": {
        "id": "RCsvHP7ciST9"
      },
      "execution_count": null,
      "outputs": []
    },
    {
      "cell_type": "code",
      "source": [
        "#Adicionando duas colunas no dataframe\n",
        "l1 = [1,2,\"3\", 4, 5]\n",
        "l2 = [2,4,6,8,10]\n",
        "\n",
        "df['a'] = l1\n",
        "df['b'] = l2\n",
        "\n",
        "df"
      ],
      "metadata": {
        "id": "v4zicbSFiZwt"
      },
      "execution_count": null,
      "outputs": []
    },
    {
      "cell_type": "code",
      "source": [
        "l3 = ['a', 'b', 'c', 'd', 'e']\n",
        "df['c'] = l3\n",
        "df"
      ],
      "metadata": {
        "id": "ym9he_cjiw8O"
      },
      "execution_count": null,
      "outputs": []
    },
    {
      "cell_type": "code",
      "source": [
        "#Estatistica Descritivas de cada coluna do dataframe\n",
        "df.describe()"
      ],
      "metadata": {
        "id": "Knvs_8LTjMIt"
      },
      "execution_count": null,
      "outputs": []
    },
    {
      "cell_type": "code",
      "source": [
        "#Tipos de dados das colunas do dataframe\n",
        "df.dtypes"
      ],
      "metadata": {
        "id": "Y9qROgq3jkqO"
      },
      "execution_count": null,
      "outputs": []
    },
    {
      "cell_type": "markdown",
      "source": [
        "Parte 2 - Manipulação de Dados no Pandas"
      ],
      "metadata": {
        "id": "12vum7mXjvat"
      }
    },
    {
      "cell_type": "code",
      "source": [
        "#Importação de bibliotacas\n",
        "import pandas as pd"
      ],
      "metadata": {
        "id": "lfScNaeej0aG"
      },
      "execution_count": null,
      "outputs": []
    },
    {
      "cell_type": "code",
      "source": [
        "from google.colab import drive\n",
        "drive.amount('/content/drive/')"
      ],
      "metadata": {
        "id": "KSVCK5JGj7Qe"
      },
      "execution_count": null,
      "outputs": []
    },
    {
      "cell_type": "code",
      "source": [
        "#Configuração para mostrar todas as linhas e colunas do dataframe\n",
        "#pd.set_option(\"display.max_rows\", None)\n",
        "df = pd.set.read_csv('soja_milho.csv', sep = ';')\n",
        "df"
      ],
      "metadata": {
        "id": "nU5CdE7FknFm"
      },
      "execution_count": null,
      "outputs": []
    },
    {
      "cell_type": "code",
      "source": [
        "df = pd.read_csv('/content/drive/My Drive/IA/soja_milho.csv',sep =';')\n",
        "df"
      ],
      "metadata": {
        "id": "Fl7DPxXcmD7v"
      },
      "execution_count": null,
      "outputs": []
    },
    {
      "cell_type": "code",
      "source": [
        "# Removendo colunas de um dataframe\n",
        "df.drop('Unnamed: 6', axis=1, inplace=True)\n",
        "df"
      ],
      "metadata": {
        "id": "ApXfGGVUmFc3"
      },
      "execution_count": null,
      "outputs": []
    },
    {
      "cell_type": "code",
      "source": [
        "# Apresentacao dos tipos das colunas do dataframe\n",
        "df.dtypes"
      ],
      "metadata": {
        "id": "AX58GvTpmH5O"
      },
      "execution_count": null,
      "outputs": []
    },
    {
      "cell_type": "code",
      "source": [
        "# Transformacao da Data do tipo \"Object\" (String) para o tipo \"datetime\"\n",
        "df[\"Data\"]= pd.to_datetime(df[\"Data\"])\n",
        "df.dtypes"
      ],
      "metadata": {
        "id": "teNWzsoHmJ2u"
      },
      "execution_count": null,
      "outputs": []
    },
    {
      "cell_type": "code",
      "source": [
        "df"
      ],
      "metadata": {
        "id": "JW4cm__tmLcP"
      },
      "execution_count": null,
      "outputs": []
    },
    {
      "cell_type": "code",
      "source": [
        "# Estatísticas do dataset\n",
        "df.describe()"
      ],
      "metadata": {
        "id": "wUXeUz8zmNMG"
      },
      "execution_count": null,
      "outputs": []
    },
    {
      "cell_type": "code",
      "source": [
        "# Extraindo as informacoes de dia da coluna do tipo \"datetime\" em uma nova coluna\n",
        "df['Dia'] = df['Data'].dt.day\n",
        "df"
      ],
      "metadata": {
        "id": "E9gPZE5-mQLe"
      },
      "execution_count": null,
      "outputs": []
    },
    {
      "cell_type": "code",
      "source": [
        "# Criando nova coluna a partir de dados de outras coilunas\n",
        "df['Preco_Total'] = df['Preco_Milho'] + df['Preco_Soja']\n",
        "df"
      ],
      "metadata": {
        "id": "AX5XKLJImTT_"
      },
      "execution_count": null,
      "outputs": []
    },
    {
      "cell_type": "code",
      "source": [
        "# Criando nova coluna baseando em condicoes\n",
        "coluna = []\n",
        "\n",
        "for i in range(len(df['Observacao'])):\n",
        "  if (df['Mes'][i] <= 6):\n",
        "    coluna.append(1)\n",
        "  else:\n",
        "    coluna.append(2)\n",
        "\n",
        "df['Semestre'] = coluna\n",
        "df"
      ],
      "metadata": {
        "id": "94b2jSM5mT53"
      },
      "execution_count": null,
      "outputs": []
    },
    {
      "cell_type": "code",
      "source": [
        "# Selecionando as linhas correspondentes apenas ao ano de 2014\n",
        "df2 = df[df['Ano'] == 2014]\n",
        "df2"
      ],
      "metadata": {
        "id": "FP9AjeqFmWJf"
      },
      "execution_count": null,
      "outputs": []
    },
    {
      "cell_type": "code",
      "source": [
        "# Selecionando as linhas correspondentes apenas ao ano de 2014 e o mes de maio\n",
        "df2 = df.loc[(df['Ano'] == 2014) & (df['Mes'] == 5)]\n",
        "df2"
      ],
      "metadata": {
        "id": "5NnCOrgrmZY_"
      },
      "execution_count": null,
      "outputs": []
    },
    {
      "cell_type": "code",
      "source": [
        "# Selecionando as linhas correspondentes a situacao onde o preco da soja eh\n",
        "# superior a 30,00 e o preco do milho eh superior a 70\n",
        "df2 = df.loc[(df['Preco_Milho'] > 30) & (df['Preco_Soja'] > 70)]\n",
        "df2"
      ],
      "metadata": {
        "id": "NsQmZMeYmbef"
      },
      "execution_count": null,
      "outputs": []
    },
    {
      "cell_type": "code",
      "source": [
        "# Selecionando as linhas correspondentes a situacao onde o preco da soja eh\n",
        "# inferior a 25,00 ou o preco do milho eh inferior a 60\n",
        "df2 = df.loc[(df['Preco_Milho'] < 25) | (df['Preco_Soja'] < 63)]\n",
        "df2"
      ],
      "metadata": {
        "id": "FZWTfiHmmeXH"
      },
      "execution_count": null,
      "outputs": []
    },
    {
      "cell_type": "code",
      "source": [
        "# Abrindo outro arquivo csv contendo um dataframe\n",
        "df = pd.read_csv('/content/drive/My Drive/Dados/dataset.csv')\n",
        "df"
      ],
      "metadata": {
        "id": "0K_2pBeymgLH"
      },
      "execution_count": null,
      "outputs": []
    },
    {
      "cell_type": "code",
      "source": [
        "# Estatísticas do dataset\n",
        "df.describe()"
      ],
      "metadata": {
        "id": "RqOiDb8dmjdv"
      },
      "execution_count": null,
      "outputs": []
    },
    {
      "cell_type": "code",
      "source": [
        "# Selecionando as linhas correspondentes a situacao onde o pais eh Japao\n",
        "# e a idade eh superior a 30 anos\n",
        "df2 = df.loc[(df['Pais'] == \"Japao\") & (df['Idade'] > 30)]\n",
        "df2"
      ],
      "metadata": {
        "id": "_UC5lvJ6mlH3"
      },
      "execution_count": null,
      "outputs": []
    },
    {
      "cell_type": "code",
      "source": [
        "# Contagem da presenca dos paises no dataframe\n",
        "x = df['Pais'].value_counts()\n",
        "x"
      ],
      "metadata": {
        "id": "HY0Xh59fmmpP"
      },
      "execution_count": null,
      "outputs": []
    },
    {
      "cell_type": "markdown",
      "source": [
        "Parte 3 - Introdução ao MatPlot Lib"
      ],
      "metadata": {
        "id": "kdjdY_fdmoEn"
      }
    },
    {
      "cell_type": "code",
      "source": [
        "# Documentação: https://matplotlib.org/stable/api/pyplot_summary.html\n",
        "import matplotlib.pyplot as plt"
      ],
      "metadata": {
        "id": "0Q1Olqfsms2n"
      },
      "execution_count": null,
      "outputs": []
    },
    {
      "cell_type": "markdown",
      "source": [
        "Cores:\n",
        "\n",
        "'b' blue\n",
        "'g' green\n",
        "'r' red\n",
        "'c' cyan\n",
        "'m' magenta\n",
        "'y' yellow"
      ],
      "metadata": {
        "id": "NXkW8NJ3mzh2"
      }
    },
    {
      "cell_type": "markdown",
      "source": [
        "Marcadores:\n",
        "\n",
        "'.' point marker\n",
        "\n",
        "',' pixel marker\n",
        "\n",
        "'o' circle marker\n",
        "\n",
        "'v' triangle_down marker\n",
        "\n",
        "'^' triangle_up marker\n",
        "\n",
        "'<' triangle_left marker\n",
        "\n",
        "'>' triangle_right marker\n",
        "\n",
        "'1' tri_down marker\n",
        "\n",
        "'2' tri_up marker\n",
        "\n",
        "'3' tri_left marker\n",
        "\n",
        "'4' tri_right marker\n",
        "\n",
        "'s' square marker\n",
        "\n",
        "'p' pentagon marker\n",
        "\n",
        "'*' star marker\n",
        "\n",
        "'h' hexagon1 marker\n",
        "\n",
        "'H' hexagon2 marker\n",
        "\n",
        "'+' plus marker\n",
        "\n",
        "'x' x marker\n",
        "\n",
        "'D' diamond marker\n",
        "\n",
        "'d' thin_diamond marker\n",
        "\n",
        "'|' vline marker\n",
        "\n",
        "'_' hline marker\n",
        "\n",
        "Tipos de linha:\n",
        "\n",
        "'-' solid line style (padrão)\n",
        "'--' dashed line style\n",
        "'-.' dash-dot line style\n",
        "':' dotted line style\n",
        "Gráfico de Linhas\n",
        "\n",
        "https://matplotlib.org/stable/api/_as_gen/matplotlib.pyplot.plot.html"
      ],
      "metadata": {
        "id": "2c825Xx_m0lX"
      }
    },
    {
      "cell_type": "code",
      "source": [
        "x = [1, 2, 3]\n",
        "y = [2, 4, 6]\n",
        "\n",
        "plt.plot(x, y)\n",
        "plt.show()"
      ],
      "metadata": {
        "id": "MEHehdU8m5Hm"
      },
      "execution_count": null,
      "outputs": []
    },
    {
      "cell_type": "code",
      "source": [
        "x = [1, 2, 3]\n",
        "y = [2, 4, 6]\n",
        "\n",
        "plt.title(\"Gráfico de linha\")\n",
        "plt.xlabel(\"Eixo x\")\n",
        "plt.ylabel(\"Eixo y\")\n",
        "\n",
        "plt.plot(x, y)\n",
        "plt.legend()\n",
        "plt.show()"
      ],
      "metadata": {
        "id": "cPX5j5yfnlNf"
      },
      "execution_count": null,
      "outputs": []
    },
    {
      "cell_type": "code",
      "source": [
        "x = [1, 2, 3]\n",
        "y = [2, 4, 6]\n",
        "\n",
        "plt.title(\"Gráfico de linha\")\n",
        "plt.xlabel(\"Eixo x\")\n",
        "plt.ylabel(\"Eixo y\")\n",
        "\n",
        "plt.plot(x, y, color = 'c', label = \"reta\")\n",
        "plt.legend()\n",
        "plt.show()"
      ],
      "metadata": {
        "id": "d5w16-lGno9Q"
      },
      "execution_count": null,
      "outputs": []
    },
    {
      "cell_type": "code",
      "source": [
        "x = [1, 2, 3]\n",
        "y = [2, 4, 6]\n",
        "\n",
        "x2 = [1, 2, 3, 4]\n",
        "y2 = [3, 3, 3, 3]\n",
        "\n",
        "plt.title(\"Gráfico de linha\")\n",
        "plt.xlabel(\"Eixo x\")\n",
        "plt.ylabel(\"Eixo y\")\n",
        "\n",
        "plt.plot(x, y, label = \"reta1\")\n",
        "plt.plot(x2, y2, label = \"reta2\")\n",
        "\n",
        "plt.legend()\n",
        "plt.show()"
      ],
      "metadata": {
        "id": "xw9O5kxknrhw"
      },
      "execution_count": null,
      "outputs": []
    },
    {
      "cell_type": "markdown",
      "source": [
        "Gráfico de Barras\n",
        "\n",
        "https://matplotlib.org/stable/api/_as_gen/matplotlib.pyplot.bar.html"
      ],
      "metadata": {
        "id": "a94CDTqCnu7a"
      }
    },
    {
      "cell_type": "code",
      "source": [
        "x = [1, 2, 3]\n",
        "y = [10, 3, 6]\n",
        "\n",
        "plt.bar(x, y)\n",
        "plt.show()"
      ],
      "metadata": {
        "id": "Ad05X1nknvzX"
      },
      "execution_count": null,
      "outputs": []
    },
    {
      "cell_type": "code",
      "source": [
        "x = [\"Vermelho\", \"Verde\", \"Azul\"]\n",
        "y = [10, 3, 6]\n",
        "\n",
        "plt.title(\"Gráfico de barras\")\n",
        "plt.xlabel(\"Cores\")\n",
        "plt.ylabel(\"nº de pessoas\")\n",
        "\n",
        "plt.bar(x, y, label = \"quantidade\", color = 'g')\n",
        "plt.legend()\n",
        "plt.show()"
      ],
      "metadata": {
        "id": "OHKSjlLnny_A"
      },
      "execution_count": null,
      "outputs": []
    },
    {
      "cell_type": "code",
      "source": [
        "x = [\"Vermelho\", \"Verde\", \"Azul\"]\n",
        "x2 = [\"Rosa\", \"Laranja\", \"Amarelo\"]\n",
        "y = [10, 3, 6]\n",
        "y2 = [5, 5, 5]\n",
        "\n",
        "plt.title(\"Meu segundo gráfico de barras\")\n",
        "plt.xlabel(\"Cores\")\n",
        "plt.ylabel(\"nº de pessoas\")\n",
        "\n",
        "plt.bar(x, y, label = \"quantidade1\")\n",
        "plt.bar(x2, y2, label = \"quantidade2\")\n",
        "plt.legend()\n",
        "plt.show()"
      ],
      "metadata": {
        "id": "-3OJEaB4n13z"
      },
      "execution_count": null,
      "outputs": []
    },
    {
      "cell_type": "markdown",
      "source": [
        "\n",
        "Gráfico de Pizza (pie chart)\n",
        "\n",
        "https://matplotlib.org/stable/gallery/pie_and_polar_charts/pie_features.html"
      ],
      "metadata": {
        "id": "ubuc0Jz9n7yn"
      }
    },
    {
      "cell_type": "code",
      "source": [
        "x = [1,2,3,4]\n",
        "\n",
        "plt.pie(x)\n",
        "plt.show()"
      ],
      "metadata": {
        "id": "JBHsjXfGn5kY"
      },
      "execution_count": null,
      "outputs": []
    },
    {
      "cell_type": "code",
      "source": [],
      "metadata": {
        "id": "RKzgeC3roBJw"
      },
      "execution_count": null,
      "outputs": []
    }
  ]
}